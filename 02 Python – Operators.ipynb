{
 "cells": [
  {
   "cell_type": "markdown",
   "metadata": {
    "id": "cbjjV9u6ZnWO"
   },
   "source": [
    "<p style=\"text-align:center;\">\n",
    "<img src=\"https://github.com/digital-futures-academy/DataScienceMasterResources/blob/main/Resources/datascience-notebook-header.png?raw=true\"\n",
    "     alt=\"DigitalFuturesLogo\"\n",
    "     style=\"float: center; margin-right: 10px;\" />\n",
    "</p>\n",
    "\n",
    "# Digital Futures Python Challenges\n",
    "### Data Science Python Fundamentals\n",
    "\n",
    "- Each of these challenges will help you practice and apply your Python Knowledge.\n",
    "- Each section contains tasks and unit tests to check your work (just need running).\n",
    "- Section 1: Bitwise Operators.\n",
    "- Section 2: Numerical Operators.\n",
    "- Section 3: Relational Operators.\n",
    "- The workbook might contain materials you have not yet come across or are uncomfortable with. If so, you can consult the other workbooks and come back to this.\n"
   ]
  },
  {
   "cell_type": "markdown",
   "metadata": {
    "id": "UVkBjMXxXj7s"
   },
   "source": [
    "# Bitwise Operations\n",
    "\n",
    "In computing, numbers are stored as their binary representations, and in programming, we can access the fundamental operator that acts on these bits. the main bitwise operations to be aware of are:\n",
    "\n",
    "1.   ~ -- NOT\n",
    "2.   & -- AND\n",
    "3.   ^ -- XOR\n",
    "4.   | -- OR\n",
    "5.   << -- left shift\n",
    "6.   \\>> -- right shift\n",
    "\n",
    "\n",
    "Their behaviours can be found here: [Bit operator truth tables](https://en.wikipedia.org/wiki/Bitwise_operation#Truth_table_for_all_binary_logical_operators)\n",
    "\n",
    "## Task 1 - Power of 2 checker\n",
    "\n",
    "Produce a function that takes an **integer** as an argument and returns **True** if it's a power of 2 and **False** otherwise. This should be done by using these operators and understanding the meaning of binary numbers (base 2).\n",
    "\n",
    "\n",
    "---\n",
    "\n",
    "\n",
    "### Example:\n",
    "```\n",
    ">>> is_power_of_two(4)\n",
    "True\n",
    "\n",
    ">>> is_power_of_two(6)\n",
    "False\n",
    "``` "
   ]
  },
  {
   "cell_type": "markdown",
   "metadata": {
    "id": "K9_yMtI2ZuEq"
   },
   "source": [
    "### Hint:\n",
    "This can be done with a loop and shift operations or with just the & operator (this requires understanding of [Two's Compliment](https://www.cs.cornell.edu/~tomf/notes/cps104/twoscomp.html#:~:text=Two's%20complement%20is%20the%20way,add%20one%20to%20the%20result.))"
   ]
  },
  {
   "cell_type": "code",
   "execution_count": null,
   "metadata": {
    "id": "FfdRnyaSAAYR"
   },
   "outputs": [
    {
     "ename": "TypeError",
     "evalue": "",
     "output_type": "error",
     "traceback": [
      "\u001b[31m---------------------------------------------------------------------------\u001b[39m",
      "\u001b[31mTypeError\u001b[39m                                 Traceback (most recent call last)",
      "\u001b[36mCell\u001b[39m\u001b[36m \u001b[39m\u001b[32mIn[30]\u001b[39m\u001b[32m, line 14\u001b[39m\n\u001b[32m      9\u001b[39m     square_root = math.sqrt(number)\n\u001b[32m     11\u001b[39m     \u001b[38;5;28;01mreturn\u001b[39;00m square_root % \u001b[32m2\u001b[39m == \u001b[32m0\u001b[39m\n\u001b[32m---> \u001b[39m\u001b[32m14\u001b[39m \u001b[43mis_power_of_two\u001b[49m\u001b[43m(\u001b[49m\u001b[32;43m64.9\u001b[39;49m\u001b[43m)\u001b[49m\n",
      "\u001b[36mCell\u001b[39m\u001b[36m \u001b[39m\u001b[32mIn[30]\u001b[39m\u001b[32m, line 8\u001b[39m, in \u001b[36mis_power_of_two\u001b[39m\u001b[34m(number)\u001b[39m\n\u001b[32m      5\u001b[39m     \u001b[38;5;28;01mreturn\u001b[39;00m \u001b[38;5;28;01mFalse\u001b[39;00m\n\u001b[32m      7\u001b[39m \u001b[38;5;28;01melif\u001b[39;00m \u001b[38;5;28misinstance\u001b[39m(number, \u001b[38;5;28mfloat\u001b[39m):\n\u001b[32m----> \u001b[39m\u001b[32m8\u001b[39m     \u001b[38;5;28;01mraise\u001b[39;00m \u001b[38;5;167;01mTypeError\u001b[39;00m()\n\u001b[32m      9\u001b[39m square_root = math.sqrt(number)\n\u001b[32m     11\u001b[39m \u001b[38;5;28;01mreturn\u001b[39;00m square_root % \u001b[32m2\u001b[39m == \u001b[32m0\u001b[39m\n",
      "\u001b[31mTypeError\u001b[39m: "
     ]
    }
   ],
   "source": [
    "import math\n",
    "def is_power_of_two(number):\n",
    "\n",
    "    if number == 0:\n",
    "        return False\n",
    "\n",
    "    elif isinstance(number, float):\n",
    "        raise TypeError()\n",
    "    square_root = math.sqrt(number)\n",
    "\n",
    "    return square_root % 2 == 0\n",
    "\n",
    "\n",
    "is_power_of_two(64.9)"
   ]
  },
  {
   "cell_type": "markdown",
   "metadata": {
    "id": "SvyboCaIVELS"
   },
   "source": [
    "Great! now check your work :)"
   ]
  },
  {
   "cell_type": "code",
   "execution_count": 25,
   "metadata": {
    "id": "kvraGvl9AAVI"
   },
   "outputs": [],
   "source": [
    "import unittest\n",
    "class DigitalFuturesUnitTest(unittest.TestCase):\n",
    "\n",
    "    def test_1_pass(self):\n",
    "        self.assertEqual(is_power_of_two(0), False)\n",
    "\n",
    "    def test_2_pass(self):\n",
    "        self.assertEqual(is_power_of_two(4), True)\n",
    "\n",
    "    def test_3_pass(self):\n",
    "        with self.assertRaises(TypeError):\n",
    "            is_power_of_two(3.2)\n",
    "\n",
    "    def test_4_pass(self):\n",
    "        self.assertEqual(is_power_of_two(38), False)\n",
    "\n",
    "    def test_5_pass(self):\n",
    "        self.assertEqual(is_power_of_two(258), False)\n",
    "\n",
    "    def test_6_pass(self):\n",
    "        self.assertEqual(is_power_of_two(64), True)\n",
    "\n",
    "    def test_7_pass(self):\n",
    "        self.assertEqual(is_power_of_two(268435456), True)\n",
    "\n",
    "    def test_8_pass(self):\n",
    "        with self.assertRaises(Exception):\n",
    "            is_power_of_two('16')"
   ]
  },
  {
   "cell_type": "code",
   "execution_count": 31,
   "metadata": {
    "colab": {
     "base_uri": "https://localhost:8080/"
    },
    "id": "GXpQF6gRAAJe",
    "outputId": "377efd19-f4cf-46de-8a34-cbb8bb1ee696"
   },
   "outputs": [
    {
     "name": "stderr",
     "output_type": "stream",
     "text": [
      "test_1_pass (__main__.DigitalFuturesUnitTest.test_1_pass) ... ok\n",
      "test_2_pass (__main__.DigitalFuturesUnitTest.test_2_pass) ... ok\n",
      "test_3_pass (__main__.DigitalFuturesUnitTest.test_3_pass) ... ok\n",
      "test_4_pass (__main__.DigitalFuturesUnitTest.test_4_pass) ... ok\n",
      "test_5_pass (__main__.DigitalFuturesUnitTest.test_5_pass) ... ok\n",
      "test_6_pass (__main__.DigitalFuturesUnitTest.test_6_pass) ... ok\n",
      "test_7_pass (__main__.DigitalFuturesUnitTest.test_7_pass) ... ok\n",
      "test_8_pass (__main__.DigitalFuturesUnitTest.test_8_pass) ... ok\n",
      "\n",
      "----------------------------------------------------------------------\n",
      "Ran 8 tests in 0.005s\n",
      "\n",
      "OK\n"
     ]
    }
   ],
   "source": [
    "if __name__ == '__main__':\n",
    "    unittest.main(argv=[''], verbosity = 2, exit=False)"
   ]
  },
  {
   "cell_type": "markdown",
   "metadata": {
    "id": "cZZzV4R5bSWk"
   },
   "source": [
    "# Numerical Operators\n",
    "\n",
    "Numerical operators handle all the most common mathematical number operations that we come across:\n",
    "\n",
    "\n",
    "\n",
    "1.   <b>+</b> -- <b>Addition</b>\n",
    "2.   <b>-</b> -- <b>Subtraction</b>\n",
    "1.   <b>/</b> -- <b>Standard Division</b>\n",
    "2.   <b>//</b> -- <b>Integer Division</b> (nearest integer rounded down)\n",
    "2.   <b>%</b> -- <b>Modulus Division</b> (Remainder after division)\n",
    "1.   <b>**</b> -- <b>Power</b> (Exponent)"
   ]
  },
  {
   "cell_type": "markdown",
   "metadata": {
    "id": "AEllPjjxgQqd"
   },
   "source": [
    "## Task 1 - Quadratic Equation Root Finder\n",
    "\n",
    "Write a function that will **return the two roots** of a quadratic equation of the form \\\\(ax^{2} + bx + c = 0 \\\\).\n",
    "\n",
    "The function will take the three coefficients a, b, c as arguments and return the two roots to **2 decimal places** as a **tuple**. \n",
    "\n",
    "The quadratic equation is **known to have real roots**, and you are encouraged to think about variable usage to minimise repeated calculations.\n",
    "\n",
    "\n",
    "---\n",
    "\n",
    "\n",
    "### Example\n",
    "```\n",
    ">>> root_finder(1, 2, -3)\n",
    "(-3, 1)\n",
    "```\n",
    "\n"
   ]
  },
  {
   "cell_type": "code",
   "execution_count": null,
   "metadata": {
    "id": "Xmpurd47AEJc"
   },
   "outputs": [
    {
     "ename": "TypeError",
     "evalue": "'float' object cannot be interpreted as an integer",
     "output_type": "error",
     "traceback": [
      "\u001b[31m---------------------------------------------------------------------------\u001b[39m",
      "\u001b[31mTypeError\u001b[39m                                 Traceback (most recent call last)",
      "\u001b[36mCell\u001b[39m\u001b[36m \u001b[39m\u001b[32mIn[37]\u001b[39m\u001b[32m, line 9\u001b[39m\n\u001b[32m      7\u001b[39m             result.append(i)\n\u001b[32m      8\u001b[39m     \u001b[38;5;28;01mreturn\u001b[39;00m \u001b[38;5;28mtuple\u001b[39m(result)\n\u001b[32m----> \u001b[39m\u001b[32m9\u001b[39m \u001b[43mroot_finder\u001b[49m\u001b[43m(\u001b[49m\u001b[32;43m1\u001b[39;49m\u001b[43m,\u001b[49m\u001b[32;43m2\u001b[39;49m\u001b[43m,\u001b[49m\u001b[43m-\u001b[49m\u001b[32;43m3\u001b[39;49m\u001b[43m)\u001b[49m\n",
      "\u001b[36mCell\u001b[39m\u001b[36m \u001b[39m\u001b[32mIn[37]\u001b[39m\u001b[32m, line 5\u001b[39m, in \u001b[36mroot_finder\u001b[39m\u001b[34m(a, b, c)\u001b[39m\n\u001b[32m      3\u001b[39m largest = \u001b[38;5;28mmax\u001b[39m(a,b,c)\n\u001b[32m      4\u001b[39m result = []\n\u001b[32m----> \u001b[39m\u001b[32m5\u001b[39m \u001b[38;5;28;01mfor\u001b[39;00m i \u001b[38;5;129;01min\u001b[39;00m \u001b[38;5;28;43mrange\u001b[39;49m\u001b[43m(\u001b[49m\u001b[43msmallest\u001b[49m\u001b[43m,\u001b[49m\u001b[43mlargest\u001b[49m\u001b[43m \u001b[49m\u001b[43m+\u001b[49m\u001b[43m \u001b[49m\u001b[32;43m1\u001b[39;49m\u001b[43m)\u001b[49m:\n\u001b[32m      6\u001b[39m     \u001b[38;5;28;01mif\u001b[39;00m a * (i**\u001b[32m2\u001b[39m) + b* i + c == \u001b[32m0\u001b[39m:\n\u001b[32m      7\u001b[39m         result.append(i)\n",
      "\u001b[31mTypeError\u001b[39m: 'float' object cannot be interpreted as an integer"
     ]
    }
   ],
   "source": [
    "def root_finder(a, b, c):\n",
    "\n",
    "    a * (i**2) + b* i = - c\n",
    "    x = -c / (a*x+b)\n",
    "    x= b**2-4*a*c\n",
    "\n",
    "    smallest = min(a,b,c)\n",
    "    largest = max(a,b,c)\n",
    "    result = []\n",
    "    for i in range(smallest,largest + 1):\n",
    "        if a * (i**2) + b* i + c == 0:\n",
    "            result.append(i)\n",
    "    return tuple(result)\n",
    "root_finder(1,2,-3)"
   ]
  },
  {
   "cell_type": "markdown",
   "metadata": {
    "id": "JnRsj_YLVDM8"
   },
   "source": [
    "Great! now check your work :)"
   ]
  },
  {
   "cell_type": "code",
   "execution_count": 35,
   "metadata": {
    "id": "qfb6sBG0AEHb"
   },
   "outputs": [],
   "source": [
    "class DigitalFuturesUnitTest(unittest.TestCase):\n",
    "\n",
    "    def test_1_pass(self):\n",
    "        self.assertIn(root_finder(1, 2, -3), [(-3.0, 1.0), (1.0, -3.0)])\n",
    "\n",
    "    def test_2_pass(self):\n",
    "        self.assertIn(root_finder(4, 6, -8), [(0.85, -2.35), (-2.35, 0.85)])\n",
    "\n",
    "    def test_3_pass(self):\n",
    "        self.assertIn(root_finder(-7, 7, 9), [(-0.74, 1.74), ( 1.74, -0.74)])\n",
    "\n",
    "    def test_4_pass(self):\n",
    "        with self.assertRaises(TypeError):\n",
    "            root_finder(-7, 7, '9')\n",
    "\n",
    "    def test_5_pass(self):\n",
    "        self.assertIn(root_finder(-234, -2345, -435), [(-9.83, -0.19), (-0.19, -9.83)])\n"
   ]
  },
  {
   "cell_type": "code",
   "execution_count": 36,
   "metadata": {
    "colab": {
     "base_uri": "https://localhost:8080/"
    },
    "id": "xphP9rs-AD5r",
    "outputId": "ce3530b7-53ea-40bb-a764-f7b8b3d7e219"
   },
   "outputs": [
    {
     "name": "stderr",
     "output_type": "stream",
     "text": [
      "test_1_pass (__main__.DigitalFuturesUnitTest.test_1_pass) ... ok\n",
      "test_2_pass (__main__.DigitalFuturesUnitTest.test_2_pass) ... FAIL\n",
      "test_3_pass (__main__.DigitalFuturesUnitTest.test_3_pass) ... FAIL\n",
      "test_4_pass (__main__.DigitalFuturesUnitTest.test_4_pass) ... ok\n",
      "test_5_pass (__main__.DigitalFuturesUnitTest.test_5_pass) ... FAIL\n",
      "\n",
      "======================================================================\n",
      "FAIL: test_2_pass (__main__.DigitalFuturesUnitTest.test_2_pass)\n",
      "----------------------------------------------------------------------\n",
      "Traceback (most recent call last):\n",
      "  File \"/var/folders/s2/v7mfgftd1pzb173svz892nwm0000gn/T/ipykernel_36867/1277868376.py\", line 7, in test_2_pass\n",
      "    self.assertIn(root_finder(4, 6, -8), [(0.85, -2.35), (-2.35, 0.85)])\n",
      "AssertionError: () not found in [(0.85, -2.35), (-2.35, 0.85)]\n",
      "\n",
      "======================================================================\n",
      "FAIL: test_3_pass (__main__.DigitalFuturesUnitTest.test_3_pass)\n",
      "----------------------------------------------------------------------\n",
      "Traceback (most recent call last):\n",
      "  File \"/var/folders/s2/v7mfgftd1pzb173svz892nwm0000gn/T/ipykernel_36867/1277868376.py\", line 10, in test_3_pass\n",
      "    self.assertIn(root_finder(-7, 7, 9), [(-0.74, 1.74), ( 1.74, -0.74)])\n",
      "AssertionError: () not found in [(-0.74, 1.74), (1.74, -0.74)]\n",
      "\n",
      "======================================================================\n",
      "FAIL: test_5_pass (__main__.DigitalFuturesUnitTest.test_5_pass)\n",
      "----------------------------------------------------------------------\n",
      "Traceback (most recent call last):\n",
      "  File \"/var/folders/s2/v7mfgftd1pzb173svz892nwm0000gn/T/ipykernel_36867/1277868376.py\", line 17, in test_5_pass\n",
      "    self.assertIn(root_finder(-234, -2345, -435), [(-9.83, -0.19), (-0.19, -9.83)])\n",
      "AssertionError: () not found in [(-9.83, -0.19), (-0.19, -9.83)]\n",
      "\n",
      "----------------------------------------------------------------------\n",
      "Ran 5 tests in 0.005s\n",
      "\n",
      "FAILED (failures=3)\n"
     ]
    }
   ],
   "source": [
    "if __name__ == '__main__':\n",
    "    unittest.main(argv=[''], verbosity = 2, exit=False)"
   ]
  },
  {
   "cell_type": "markdown",
   "metadata": {
    "id": "2ovO7p5KiRJz"
   },
   "source": [
    "## Task 2\n",
    "\n",
    "Write a function that will take an integer value and return:\n",
    "\n",
    "*   **True** If the number is even\n",
    "*   **False** If the number is odd\n",
    "*   **\"not an int\"** if the input value isn't an integer\n",
    "\n",
    "\n",
    "---\n",
    "\n",
    "### Example\n",
    "```\n",
    ">>> is_even(2)\n",
    "True\n",
    "\n",
    ">>> is_even(9.2)\n",
    "\"not an int\"\n",
    "```"
   ]
  },
  {
   "cell_type": "code",
   "execution_count": 43,
   "metadata": {
    "id": "27ZQFOq-AJhg"
   },
   "outputs": [
    {
     "data": {
      "text/plain": [
       "'not an int'"
      ]
     },
     "execution_count": 43,
     "metadata": {},
     "output_type": "execute_result"
    }
   ],
   "source": [
    "def is_even(number):\n",
    "    if not isinstance(number, int):\n",
    "        return \"not an int\"\n",
    "    elif number % 2 == 0:\n",
    "        return True\n",
    "    else:\n",
    "        return False\n",
    "\n",
    "is_even(\"2\")"
   ]
  },
  {
   "cell_type": "markdown",
   "metadata": {
    "id": "qZf27k_AU4Ti"
   },
   "source": [
    "Great! now check your work :)"
   ]
  },
  {
   "cell_type": "code",
   "execution_count": 44,
   "metadata": {
    "id": "7_9KYGGCAJfm"
   },
   "outputs": [],
   "source": [
    "class DigitalFuturesUnitTest(unittest.TestCase):\n",
    "\n",
    "    def test_1_pass(self):\n",
    "        self.assertEqual(is_even(6), True)\n",
    "\n",
    "    def test_2_pass(self):\n",
    "        self.assertEqual(is_even(3), False)\n",
    "\n",
    "    def test_3_pass(self):\n",
    "        self.assertEqual(is_even(4.4), \"not an int\")\n",
    "\n",
    "    def test_4_pass(self):\n",
    "        self.assertEqual(is_even('4'), \"not an int\")"
   ]
  },
  {
   "cell_type": "code",
   "execution_count": 45,
   "metadata": {
    "colab": {
     "base_uri": "https://localhost:8080/"
    },
    "id": "QvF93iASAJRt",
    "outputId": "6c36641f-645e-45c0-afbb-774b0a682534"
   },
   "outputs": [
    {
     "name": "stderr",
     "output_type": "stream",
     "text": [
      "test_1_pass (__main__.DigitalFuturesUnitTest.test_1_pass) ... ok\n",
      "test_2_pass (__main__.DigitalFuturesUnitTest.test_2_pass) ... ok\n",
      "test_3_pass (__main__.DigitalFuturesUnitTest.test_3_pass) ... ok\n",
      "test_4_pass (__main__.DigitalFuturesUnitTest.test_4_pass) ... ok\n",
      "\n",
      "----------------------------------------------------------------------\n",
      "Ran 4 tests in 0.005s\n",
      "\n",
      "OK\n"
     ]
    }
   ],
   "source": [
    "if __name__ == '__main__':\n",
    "    unittest.main(argv=[''], verbosity = 2, exit=False)"
   ]
  },
  {
   "cell_type": "markdown",
   "metadata": {
    "id": "dnfWIkd0mzs6"
   },
   "source": [
    "# Relational Operators\n",
    "\n",
    "A key tool in a programmers inventory is Relational Operators. A strong understanding of these operators and their outputs can make our code more efficient and understandable. The main operators to be aware of are:\n",
    "\n",
    "\n",
    "1.   **==** -- **Equivelancy Operator**\n",
    "2.   **!=** -- **Not Equivalent**\n",
    "4.   **>** -- **Greater Than**\n",
    "5.   **<** -- **Less Than**\n",
    "6.   **>=** -- **Greater Than or Equal To**\n",
    "7.   **<=** -- **Less Than or Equal To**\n",
    "\n",
    "The above behaves as expected and return a Boolean value.\n",
    "\n",
    "## Task\n",
    "\n",
    "For this task, we are a video streaming service provider that offers our customers four exceptional packages! These from least to most expensive are:\n",
    "\n",
    "\n",
    "*   **The Minimalist Plan**\n",
    "*   **The Basic Plan**\n",
    "*   **The Premium Plan**\n",
    "*   **The Sports+ Plan**\n",
    "\n",
    "We want you to write a function that will follow our strict criteria to recommend to users which plan they should use. The function will take in users weekly watch time, active unfinished shows, and their favourite tv genre.\n",
    "\n",
    "If a customer's favourite genre is **sports** they should always be recommended the **'sports+'** plan. Similarly, if their weekly watch time and active shows are **below 20 hours** and **5 shows** then the **'minimalist'** plan should be recommended, and if only one of the two conditions is true then the **'basic'** plan should. If they don't fit into this category then they should get the **'premium'** plan. \n",
    "\n",
    "The function arguments are:\n",
    "\n",
    "\n",
    "1.   **Weekly Watch Time**\n",
    "2.   **Active Unfinished Shows**\n",
    "3.   **Favorite TV Genre**\n",
    "\n",
    "and should return the strings **'minimalist'**, **'basic'**, **'premium'**, or **'sports+'**\n",
    "\n",
    "---\n",
    "\n",
    "### Example\n",
    "```\n",
    ">>> tv_plan_picker(25, 3, 'sports')\n",
    "'sports+'\n",
    "```"
   ]
  },
  {
   "cell_type": "code",
   "execution_count": 1,
   "metadata": {
    "id": "fGKEs_t9ZnWP"
   },
   "outputs": [
    {
     "data": {
      "text/plain": [
       "'sports+'"
      ]
     },
     "execution_count": 1,
     "metadata": {},
     "output_type": "execute_result"
    }
   ],
   "source": [
    "def tv_plan_picker(watch_time, active_shows, fav_genre):\n",
    "\n",
    "    if fav_genre.lower() == 'sports':\n",
    "        return \"sports+\"\n",
    "    elif watch_time < 20 and active_shows < 5:\n",
    "        return \"minimalist\"\n",
    "    elif watch_time < 20 or active_shows < 5:\n",
    "        return \"basic\"\n",
    "    else:\n",
    "        return \"premium\"\n",
    "\n",
    "tv_plan_picker(25, 3, \"sports\")"
   ]
  },
  {
   "cell_type": "markdown",
   "metadata": {
    "id": "BtWcrogyVSQ_"
   },
   "source": [
    "Great! now check your work :)"
   ]
  },
  {
   "cell_type": "code",
   "execution_count": 47,
   "metadata": {
    "id": "INjoWh0_xdDM"
   },
   "outputs": [],
   "source": [
    "class DigitalFuturesUnitTest(unittest.TestCase):\n",
    "\n",
    "    def test_1_pass(self):\n",
    "        self.assertEqual(tv_plan_picker(6, 3, 'sports').lower(), 'sports+')\n",
    "\n",
    "    def test_2_pass(self):\n",
    "        self.assertEqual(tv_plan_picker(10, 5, 'Drama').lower(), 'basic')\n",
    "\n",
    "    def test_3_pass(self):\n",
    "        self.assertEqual(tv_plan_picker(14, 5, 'Documentary').lower(), 'basic')\n",
    "\n",
    "    def test_4_pass(self):\n",
    "        self.assertEqual(tv_plan_picker(23.5, 6, 'Crime').lower(), 'premium')"
   ]
  },
  {
   "cell_type": "code",
   "execution_count": 48,
   "metadata": {
    "colab": {
     "base_uri": "https://localhost:8080/"
    },
    "id": "tFrgi7uFAW_U",
    "outputId": "c7aa4263-921f-4234-c38e-1f0aaacea9fb"
   },
   "outputs": [
    {
     "name": "stderr",
     "output_type": "stream",
     "text": [
      "test_1_pass (__main__.DigitalFuturesUnitTest.test_1_pass) ... ok\n",
      "test_2_pass (__main__.DigitalFuturesUnitTest.test_2_pass) ... ok\n",
      "test_3_pass (__main__.DigitalFuturesUnitTest.test_3_pass) ... ok\n",
      "test_4_pass (__main__.DigitalFuturesUnitTest.test_4_pass) ... ok\n",
      "\n",
      "----------------------------------------------------------------------\n",
      "Ran 4 tests in 0.003s\n",
      "\n",
      "OK\n"
     ]
    }
   ],
   "source": [
    "if __name__ == '__main__':\n",
    "    unittest.main(argv=[''], verbosity = 2, exit=False)"
   ]
  },
  {
   "cell_type": "markdown",
   "metadata": {
    "id": "dA4hMPkIVTjR"
   },
   "source": [
    "All Done! Good work!\n",
    "Some of these can be a bit tricky so feel free to ask if you're stuck or a bit confused :)"
   ]
  }
 ],
 "metadata": {
  "colab": {
   "collapsed_sections": [],
   "name": "00_Operators.ipynb",
   "provenance": []
  },
  "kernelspec": {
   "display_name": ".venv",
   "language": "python",
   "name": "python3"
  },
  "language_info": {
   "codemirror_mode": {
    "name": "ipython",
    "version": 3
   },
   "file_extension": ".py",
   "mimetype": "text/x-python",
   "name": "python",
   "nbconvert_exporter": "python",
   "pygments_lexer": "ipython3",
   "version": "3.11.2"
  },
  "nteract": {
   "version": "0.28.0"
  },
  "toc": {
   "base_numbering": 1,
   "nav_menu": {},
   "number_sections": true,
   "sideBar": true,
   "skip_h1_title": false,
   "title_cell": "Table of Contents",
   "title_sidebar": "Contents",
   "toc_cell": false,
   "toc_position": {},
   "toc_section_display": true,
   "toc_window_display": false
  }
 },
 "nbformat": 4,
 "nbformat_minor": 1
}
