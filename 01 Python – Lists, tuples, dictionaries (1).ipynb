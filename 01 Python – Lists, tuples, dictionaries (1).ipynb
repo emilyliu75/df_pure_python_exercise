{
 "cells": [
  {
   "cell_type": "markdown",
   "metadata": {},
   "source": [
    "<p style=\"text-align:center;\">\n",
    "<img src=\"https://github.com/digital-futures-academy/DataScienceMasterResources/blob/main/Resources/datascience-notebook-header.png?raw=true\"\n",
    "     alt=\"DigitalFuturesLogo\"\n",
    "     style=\"float: center; margin-right: 10px;\" />\n",
    "</p>\n",
    "\n",
    "# Digital Futures Python Challenges\n",
    "### Data Science Python Fundamentals\n",
    "\n",
    "- Each of these challenges will help you practice and apply your Python Knowledge.     \n",
    "- Section 1: Explains the Challenge. Write your function in this section.\n",
    "- Section 2: Creates Unit-Tests to check code. Just run this section.\n",
    "- Section 3: Runs the Unit-Tests to check the code. Just run this section.\n",
    "- The workbook might contain materials you have not yet come across, or are not comfortable with. If so, you can consult the other workbooks and come back to this.\n"
   ]
  },
  {
   "cell_type": "markdown",
   "metadata": {},
   "source": [
    "# 1: Lists, Tuples & Dictionaries"
   ]
  },
  {
   "cell_type": "markdown",
   "metadata": {},
   "source": [
    "## 1: Lists"
   ]
  },
  {
   "cell_type": "markdown",
   "metadata": {},
   "source": [
    " - Your function take in a list of places\n",
    " - You should sort the list into alphabetical order, then add \"Home\" in first place.\n",
    " - Due to COVID regulations, if the list contains \"Abroad\" it should be deleted"
   ]
  },
  {
   "cell_type": "code",
   "execution_count": 35,
   "metadata": {},
   "outputs": [
    {
     "data": {
      "text/plain": [
       "['Home', 'random']"
      ]
     },
     "execution_count": 35,
     "metadata": {},
     "output_type": "execute_result"
    }
   ],
   "source": [
    "#Def your Code here\n",
    "#You should not rename the function\n",
    "\n",
    "def myListFunc(places):\n",
    "    places.sort()\n",
    "    places.insert(0, 'Home')\n",
    "    if \"Abroad\" in places:\n",
    "        places.remove('Abroad')\n",
    "    return places\n",
    "myListFunc([\"Abroad\", \"random\"])"
   ]
  },
  {
   "cell_type": "markdown",
   "metadata": {},
   "source": [
    "## 2: Tuples"
   ]
  },
  {
   "cell_type": "markdown",
   "metadata": {},
   "source": [
    " - The inuput to your function is two tuples\n",
    " - The function should reverse the first tuple, and append the second tuple without the last number\n",
    " - so (1, 2, 3), (4, 5, 6) should return (3, 2, 1, 4, 5)"
   ]
  },
  {
   "cell_type": "code",
   "execution_count": 24,
   "metadata": {},
   "outputs": [
    {
     "data": {
      "text/plain": [
       "(3, 2, 1, 4, 5)"
      ]
     },
     "execution_count": 24,
     "metadata": {},
     "output_type": "execute_result"
    }
   ],
   "source": [
    "#Def your Code here\n",
    "#You should not rename the function\n",
    "\n",
    "def myTupleFunc(t1, t2):\n",
    "\n",
    "    first = list(t1[::-1])\n",
    "    t2 = list(t2)\n",
    "    t2.pop()\n",
    "    new = first + t2\n",
    "\n",
    "    return tuple(new)\n",
    "myTupleFunc((1,2,3), (4,5,6))"
   ]
  },
  {
   "cell_type": "markdown",
   "metadata": {},
   "source": [
    "## 3: Dictionaries"
   ]
  },
  {
   "cell_type": "markdown",
   "metadata": {},
   "source": [
    " - Students have received marks in their modules.\n",
    " - Your function will take in a dictionary containing a list of modules and marks.\n",
    " \n",
    " - The function should return a message saying - \n",
    " - \"Congratulations, your highest score was [mark] in [module name]\"\n"
   ]
  },
  {
   "cell_type": "code",
   "execution_count": 38,
   "metadata": {},
   "outputs": [
    {
     "data": {
      "text/plain": [
       "'Congratulations, your highest score was 100 in chemistry'"
      ]
     },
     "execution_count": 38,
     "metadata": {},
     "output_type": "execute_result"
    }
   ],
   "source": [
    "#Def your Code here\n",
    "#You should not rename the function\n",
    "\n",
    "def myDictFunc(scores):\n",
    "    #highest = max(scores.values(), default=0)\n",
    "    max_key = max(scores, key=scores.get)\n",
    "    max_value = scores[max_key]\n",
    "    return (f\"Congratulations, your highest score was {max_value} in {max_key}\")\n",
    "myDictFunc(scores = { \"math\" : 20, \"chemistry\" : 100, \"art\" : 12})"
   ]
  },
  {
   "cell_type": "markdown",
   "metadata": {},
   "source": [
    "# 2: Test Definition\n",
    "#### Just run this section - no ammendments necessary\n",
    "- Here we define the tests. \n"
   ]
  },
  {
   "cell_type": "code",
   "execution_count": 36,
   "metadata": {},
   "outputs": [],
   "source": [
    "import unittest\n",
    "\n",
    "class DigitalFuturesUnitTest(unittest.TestCase):\n",
    "\n",
    "    def test_0_pass(self):\n",
    "        testCalc = myListFunc(['shops', 'uni', 'Abroad', 'Basingstoke'])\n",
    "        self.assertEqual(testCalc, ['Home', 'Basingstoke', 'shops', 'uni'])\n",
    "\n",
    "    def test_1_pass(self):\n",
    "        testCalc = myListFunc(['Edinburgh', 'Park', 'Beach'])\n",
    "        self.assertEqual(testCalc, ['Home', 'Beach', 'Edinburgh', 'Park'])\n",
    "\n",
    "    def test_2_pass(self):\n",
    "        testCalc = myTupleFunc((15, 12, 36), (5, 11, 9))\n",
    "        self.assertEqual(testCalc, (36, 12, 15, 5, 11))\n",
    "\n",
    "    def test_3_pass(self):\n",
    "        testCalc = myDictFunc({\"Phyics\":56, \"Art\":42, \"Data Science\":87, \"Geography\":65})\n",
    "        self.assertEqual(testCalc, \"Congratulations, your highest score was 87 in Data Science\")"
   ]
  },
  {
   "cell_type": "markdown",
   "metadata": {},
   "source": [
    "# 3: Run The Tests\n",
    "#### Just run this section - no ammendments necessary\n",
    "- This will test your code against the Digital Futures Unit Tests. \n",
    "- If all tests are okay, it will say 'OK'\n",
    "- If any test fails, it will explain which test it was and why it failed"
   ]
  },
  {
   "cell_type": "code",
   "execution_count": 39,
   "metadata": {},
   "outputs": [
    {
     "name": "stderr",
     "output_type": "stream",
     "text": [
      "test_0_pass (__main__.DigitalFuturesUnitTest.test_0_pass) ... ok\n",
      "test_1_pass (__main__.DigitalFuturesUnitTest.test_1_pass) ... ok\n",
      "test_2_pass (__main__.DigitalFuturesUnitTest.test_2_pass) ... ok\n",
      "test_3_pass (__main__.DigitalFuturesUnitTest.test_3_pass) ... ok\n",
      "\n",
      "----------------------------------------------------------------------\n",
      "Ran 4 tests in 0.004s\n",
      "\n",
      "OK\n"
     ]
    }
   ],
   "source": [
    "if __name__ == '__main__':\n",
    "    unittest.main(argv=['first-arg-is-ignored'],\n",
    "                  verbosity = 2, exit=False)"
   ]
  },
  {
   "cell_type": "code",
   "execution_count": null,
   "metadata": {},
   "outputs": [],
   "source": []
  }
 ],
 "metadata": {
  "kernelspec": {
   "display_name": ".venv",
   "language": "python",
   "name": "python3"
  },
  "language_info": {
   "codemirror_mode": {
    "name": "ipython",
    "version": 3
   },
   "file_extension": ".py",
   "mimetype": "text/x-python",
   "name": "python",
   "nbconvert_exporter": "python",
   "pygments_lexer": "ipython3",
   "version": "3.11.2"
  },
  "nteract": {
   "version": "0.28.0"
  }
 },
 "nbformat": 4,
 "nbformat_minor": 2
}
